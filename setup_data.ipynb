{
 "cells": [
  {
   "cell_type": "code",
   "execution_count": null,
   "metadata": {
    "application/vnd.databricks.v1+cell": {
     "cellMetadata": {
      "byteLimit": 2048000,
      "rowLimit": 10000
     },
     "inputWidgets": {},
     "nuid": "6bca260b-13d1-448f-8082-30b60a85c9ae",
     "showTitle": false,
     "title": ""
    }
   },
   "outputs": [],
   "source": [
    "%sql\n",
    "-- existing table that captures dlt pipeline execution logs. Used to validate pipeline id and execution id and provide additional context when assigning incidents. It should be left outer joined to incident table\n",
    "CREATE OR REPLACE TABLE aaron_demo.default.dlt_pipeline_execution_log(\n",
    "  pipeline_id STRING,\n",
    "  execution_id STRING,\n",
    "  pipeline_name STRING,\n",
    "  status STRING\n",
    ")"
   ]
  },
  {
   "cell_type": "code",
   "execution_count": null,
   "metadata": {},
   "outputs": [],
   "source": [
    "%sql\n",
    "INSERT INTO aaron_demo.default.dlt_pipeline_execution_log BY NAME\n",
    "SELECT '6b97ef82-deac-4873-b0fd-439c720cf628' AS pipeline_id,'21121-deac-4873-b0fd-21212' AS execution_id,'[dev aaron_pan] dlt_test_pipeline1' AS pipeline_name, 'FAILED' AS status\n",
    "Union\n",
    "SELECT '6b97ef82-deac-4873-b0fd-439c720cf628' AS pipeline_id,'12DASDAS-deac-4873-b0fd-1212AS' AS execution_id,'[dev aaron_pan] dlt_test_pipeline1' AS pipeline_name, 'FAILED' AS status\n",
    "Union\n",
    "SELECT '21b97ef82-deac-21-b0fd-439c720cf628' AS pipeline_id,'ADFDSF-deac-4873-b0fd-ASDVC' AS execution_id,'test pipeline 2' AS pipeline_name, 'FAILED' AS status\n",
    "Union\n",
    "SELECT '6b97ef82-deac-4873-b0fd-439c720cf628' AS pipeline_id,'12321-deac-4873-b0fd-ASDVC' AS execution_id,'[dev aaron_pan] dlt_test_pipeline1' AS pipeline_name, 'SUCCESS' AS status\n",
    "Union\n",
    "SELECT '6b97ef82-deac-4873-b0fd-439c720cf628' AS pipeline_id,'996ce80e-3dd4-4c8d-8c1b-af72e6d1e847' AS execution_id,'[dev aaron_pan] dlt_test_pipeline1' AS pipeline_name, 'FAILED' AS status"
   ]
  },
  {
   "cell_type": "code",
   "execution_count": null,
   "metadata": {},
   "outputs": [],
   "source": [
    "%sql\n",
    "-- new table that captures incident assigned to dlt pipeline executions (usually failed ones). 1 pipeline execution should have max 1 incident.\n",
    "CREATE OR REPLACE TABLE aaron_demo.default.dlt_pipeline_incidents(\n",
    "  pipeline_id STRING,\n",
    "  execution_id STRING,\n",
    "  incident_id STRING,\n",
    "  incident_status STRING,\n",
    "  assigned_to STRING,\n",
    "  incident_comments STRING,\n",
    "  assigned_timestamp TIMESTAMP,\n",
    "  CONSTRAINT incident_pk PRIMARY KEY(pipeline_id, execution_id)\n",
    ")"
   ]
  }
 ],
 "metadata": {
  "application/vnd.databricks.v1+notebook": {
   "dashboards": [],
   "language": "python",
   "notebookMetadata": {
    "pythonIndentUnit": 2
   },
   "notebookName": "notebook",
   "widgets": {}
  },
  "kernelspec": {
   "display_name": "Python 3",
   "language": "python",
   "name": "python3"
  },
  "language_info": {
   "codemirror_mode": {
    "name": "ipython",
    "version": 3
   },
   "file_extension": ".py",
   "mimetype": "text/x-python",
   "name": "python",
   "nbconvert_exporter": "python",
   "pygments_lexer": "ipython3",
   "version": "3.12.4"
  }
 },
 "nbformat": 4,
 "nbformat_minor": 0
}
